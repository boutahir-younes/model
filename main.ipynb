{
 "cells": [
  {
   "cell_type": "code",
   "execution_count": null,
   "id": "0a738e90",
   "metadata": {},
   "outputs": [],
   "source": [
    "import numpy as np\n",
    "import pandas as pd"
   ]
  },
  {
   "cell_type": "markdown",
   "id": "5776f926",
   "metadata": {},
   "source": [
    "## Chargement et Prétraitement des Données\n"
   ]
  },
  {
   "cell_type": "code",
   "execution_count": null,
   "id": "7fea9628",
   "metadata": {},
   "outputs": [],
   "source": [
    "from sklearn.utils import shuffle\n",
    "\n",
    "# Charger le fichier de données\n",
    "df = pd.read_csv(\"ressource/Data.csv\")\n",
    "\n",
    "# Mélanger les lignes du jeu de données\n",
    "df = shuffle(df, random_state=42)\n",
    "\n",
    "# Afficher les premières lignes\n",
    "df.head()\n"
   ]
  },
  {
   "cell_type": "code",
   "execution_count": null,
   "id": "83e4281d",
   "metadata": {},
   "outputs": [],
   "source": [
    "df.info()  # Type de chaque colonne + valeurs manquantes\n",
    "df.describe()  # Statistiques numériques\n"
   ]
  },
  {
   "cell_type": "code",
   "execution_count": null,
   "id": "042c45ab",
   "metadata": {},
   "outputs": [],
   "source": [
    "# Appliquer uniquement aux colonnes contenant des chaînes de caractères\n",
    "for col in df.columns[1:]:\n",
    "    if df[col].dtype == \"object\":\n",
    "        df[col] = df[col].str.replace('_', ' ', regex=False)\n",
    "\n",
    "# Supprimer les espaces au début/fin (pour les colonnes texte uniquement)\n",
    "df = df.apply(lambda x: x.str.strip() if x.dtype == \"object\" else x)\n",
    "\n",
    "# Remplacer les valeurs manquantes par 0\n",
    "df = df.fillna(0)\n",
    "\n",
    "# Afficher les 5 premières lignes\n",
    "df.head()\n"
   ]
  },
  {
   "cell_type": "markdown",
   "id": "9d8b8ea3",
   "metadata": {},
   "source": [
    "## Analyse Exploratoire des Données (EDA)\n"
   ]
  },
  {
   "cell_type": "code",
   "execution_count": null,
   "id": "3ee49cdd",
   "metadata": {},
   "outputs": [],
   "source": [
    "\n",
    "import matplotlib.pyplot as plt "
   ]
  },
  {
   "cell_type": "code",
   "execution_count": null,
   "id": "6a9b4ec0",
   "metadata": {},
   "outputs": [],
   "source": [
    "# Compter le nombre d'occurrences de chaque maladie\n",
    "disease_distribution = df['Diseases'].value_counts()\n",
    "\n",
    "# Afficher la distribution\n",
    "disease_distribution\n"
   ]
  },
  {
   "cell_type": "code",
   "execution_count": null,
   "id": "febc5d7e",
   "metadata": {},
   "outputs": [],
   "source": [
    "# Supprimer les espaces inutiles dans les noms de colonnes\n",
    "df.columns = df.columns.str.strip()\n",
    "\n",
    "# Supprimer la colonne 'Diseases' pour ne garder que les symptômes\n",
    "symptom_df = df.drop(columns=['Diseases'])\n",
    "\n",
    "# Nettoyer les noms de maladies : retirer les espaces et remplacer les underscores par des espaces\n",
    "df['Diseases'] = df['Diseases'].str.strip().str.replace('_', ' ', regex=False)\n",
    "\n",
    "\n",
    "# Compter le nombre total d'occurrences de chaque symptôme\n",
    "symptom_counts = symptom_df.sum().sort_values(ascending=False)\n",
    "\n",
    "# Afficher un graphique en barres\n",
    "plt.figure(figsize=(15, 6))\n",
    "symptom_counts.plot(kind='bar')\n",
    "plt.title(\"Fréquence des symptômes toutes maladies confondues\")\n",
    "plt.ylabel(\"Nombre d'occurrences\")\n",
    "plt.xlabel(\"Symptômes\")\n",
    "plt.xticks(rotation=90)\n",
    "plt.tight_layout()\n",
    "plt.show()\n"
   ]
  },
  {
   "cell_type": "markdown",
   "id": "bab0dba7",
   "metadata": {},
   "source": [
    "*Suppression des lignes dupliquées*"
   ]
  },
  {
   "cell_type": "code",
   "execution_count": null,
   "id": "32341409",
   "metadata": {},
   "outputs": [],
   "source": [
    "# Calculer le nombre de lignes dupliquées\n",
    "num_duplicates = df.duplicated().sum()\n",
    "print(f\"Nombre de lignes dupliquées : {num_duplicates}\")\n",
    "\n",
    "# Supprimer les doublons\n",
    "df_dedup = df.drop_duplicates()\n",
    "\n",
    "# Extraire la liste des maladies uniques\n",
    "unique_diseases_df = df['Diseases'].unique()\n",
    "\n",
    "# Afficher les premières lignes du jeu de données nettoyé\n",
    "df_dedup.head()\n"
   ]
  },
  {
   "cell_type": "code",
   "execution_count": null,
   "id": "d9d67f52",
   "metadata": {},
   "outputs": [],
   "source": [
    "# Supprimer la colonne 'Diseases' pour ne garder que les colonnes de symptômes\n",
    "symptom_df = df_dedup.drop(columns=['Diseases'])\n",
    "\n",
    "# Compter le nombre total d'occurrences de chaque symptôme\n",
    "symptom_counts = symptom_df.sum().sort_values(ascending=False)\n",
    "\n",
    "# Afficher un graphique en barres\n",
    "plt.figure(figsize=(15, 6))\n",
    "symptom_counts.plot(kind='bar')\n",
    "plt.title(\"Fréquence des symptômes toutes maladies confondues\")\n",
    "plt.ylabel(\"Nombre d'occurrences\")\n",
    "plt.xlabel(\"Symptômes\")\n",
    "plt.xticks(rotation=90)\n",
    "plt.tight_layout()\n",
    "plt.show()\n"
   ]
  },
  {
   "cell_type": "code",
   "execution_count": null,
   "id": "16ad06e7",
   "metadata": {},
   "outputs": [],
   "source": [
    "# Compter le nombre d'occurrences pour chaque maladie\n",
    "disease_dis = df_dedup['Diseases'].value_counts()\n",
    "\n",
    "# Afficher la distribution des maladies sous forme de graphique en barres\n",
    "plt.figure(figsize=(10, 5))\n",
    "disease_dis.plot(kind='bar')\n",
    "plt.title(\"Distribution des maladies\")\n",
    "plt.xlabel(\"Maladie\")\n",
    "plt.ylabel(\"Nombre d'occurrences\")\n",
    "\n",
    "# Annoter chaque barre avec la valeur correspondante\n",
    "for index, value in enumerate(disease_dis):\n",
    "    plt.text(index, value + 0.1, str(value), ha='center')\n",
    "\n",
    "plt.show()\n"
   ]
  },
  {
   "cell_type": "markdown",
   "id": "41229124",
   "metadata": {},
   "source": [
    "*Distribution des Symptômes*"
   ]
  },
  {
   "cell_type": "code",
   "execution_count": null,
   "id": "a5f77809",
   "metadata": {},
   "outputs": [],
   "source": [
    "import plotly.express as px\n",
    "\n",
    "# Remplacer les valeurs manquantes par 0\n",
    "df_dedup = df_dedup.fillna(0)\n",
    "# Conversion du format large au format long long\n",
    "melted_df = df_dedup.melt(id_vars=[df_dedup.columns[0]], var_name='Symptom', value_name='Presence')\n",
    "\n",
    "# Garder uniquement les symptômes présents (valeur = 1)\n",
    "melted_df = melted_df[melted_df['Presence'] == 1]\n",
    "\n",
    "# Compter la fréquence de chaque symptôme\n",
    "symptom_distribution = melted_df['Symptom'].value_counts().reset_index()\n",
    "symptom_distribution.columns = ['Symptom', 'Count']\n",
    "\n",
    "# Création du camembert interactif\n",
    "fig = px.pie(\n",
    "    symptom_distribution,\n",
    "    names='Symptom',\n",
    "    values='Count',\n",
    "    title=\"Distribution des Symptômes par Maladie\",\n",
    "    hover_data=['Count'],\n",
    "    labels={'Symptom': 'Symptômes', 'Count': 'Nombre d’apparitions'}\n",
    ")\n",
    "\n",
    "fig.update_traces(textposition='inside', textinfo='percent+label')\n",
    "fig.update_layout(margin=dict(t=40, b=40, l=40, r=40), height=600, width=800)\n",
    "\n",
    "fig.show()"
   ]
  },
  {
   "cell_type": "markdown",
   "id": "52216b4e",
   "metadata": {},
   "source": [
    "*Matrice de Corrélation des Maladies*"
   ]
  },
  {
   "cell_type": "code",
   "execution_count": null,
   "id": "8bfdc2f2",
   "metadata": {},
   "outputs": [],
   "source": [
    "import seaborn as sns\n",
    "\n",
    "# Identifier la colonne des maladies (la dernière colonne)\n",
    "disease_col = df_dedup.columns[-1]\n",
    "\n",
    "# Regrouper les lignes par maladie et sommer les symptômes binaires\n",
    "df_grouped = df_dedup.groupby(disease_col).sum(numeric_only=True).reset_index()\n",
    "\n",
    "# Définir le nom de la maladie comme index\n",
    "df_grouped.set_index('Diseases', inplace=True)\n",
    "\n",
    "# Calculer la matrice de corrélation entre les maladies\n",
    "disease_correlation = df_grouped.T.corr()\n",
    "\n",
    "# Afficher la matrice de corrélation sous forme de heatmap\n",
    "plt.figure(figsize=(15, 10))\n",
    "sns.heatmap(\n",
    "    disease_correlation,\n",
    "    annot=False,\n",
    "    cmap='coolwarm',\n",
    "    linewidths=0.5,\n",
    "    square=True,\n",
    "    cbar_kws={\"shrink\": .5}\n",
    ")\n",
    "plt.title(\"Matrice de corrélation entre maladies (basée sur les symptômes)\")\n",
    "plt.show()\n"
   ]
  },
  {
   "cell_type": "code",
   "execution_count": null,
   "id": "07807049",
   "metadata": {},
   "outputs": [],
   "source": [
    "df_grouped"
   ]
  },
  {
   "cell_type": "markdown",
   "id": "3326eb21",
   "metadata": {},
   "source": [
    "## Entraînement et Évaluation des Modèles\n",
    "\n",
    "### Réseau de Neurones Personnalisé (MLP)\n",
    "\n",
    "Ce modèle est un perceptron multi-couche construit manuellement sans bibliothèque externe. Il apprend à partir des données grâce à un processus d'entraînement basé sur la propagation avant, la rétropropagation et la mise à jour des poids. Cette approche offre un contrôle total sur le fonctionnement interne du réseau et renforce la compréhension des mécanismes fondamentaux de l’apprentissage profond.\n",
    "\n"
   ]
  },
  {
   "cell_type": "markdown",
   "id": "c7ecaa39",
   "metadata": {},
   "source": [
    "## Préparation des Données"
   ]
  },
  {
   "cell_type": "code",
   "execution_count": null,
   "id": "1f7820cf",
   "metadata": {},
   "outputs": [],
   "source": [
    "from sklearn.preprocessing import OneHotEncoder, StandardScaler\n",
    "from sklearn.preprocessing import OneHotEncoder"
   ]
  },
  {
   "cell_type": "code",
   "execution_count": null,
   "id": "1763f820",
   "metadata": {},
   "outputs": [],
   "source": [
    "# Séparer les variables explicatives (symptômes) et la variable cible (maladie)\n",
    "X = df_dedup.drop(columns=[\"Diseases\"])\n",
    "y = df_dedup[\"Diseases\"]\n",
    "\n",
    "# Appliquer une normalisation standard aux données\n",
    "scaler = StandardScaler()\n",
    "X_scaled = scaler.fit_transform(X)\n",
    "\n",
    "# Convertir les données normalisées en DataFrame\n",
    "X_scaled_df = pd.DataFrame(X_scaled, columns=X.columns)\n",
    "\n",
    "# Réattacher la variable cible au DataFrame prétraité\n",
    "preprocessed_df = pd.concat([X_scaled_df, y.reset_index(drop=True)], axis=1)\n"
   ]
  },
  {
   "cell_type": "code",
   "execution_count": null,
   "id": "803763e7",
   "metadata": {},
   "outputs": [],
   "source": [
    "# Réorganiser les colonnes pour placer 'Diseases' en première position\n",
    "preprocessed_df = preprocessed_df[['Diseases'] + [col for col in preprocessed_df.columns if col != 'Diseases']]\n",
    "preprocessed_df.columns = [col.replace('_', ' ') for col in preprocessed_df.columns]\n",
    "\n",
    "\n",
    "# Afficher le DataFrame réorganisé\n",
    "preprocessed_df\n"
   ]
  },
  {
   "cell_type": "markdown",
   "id": "f4368de8",
   "metadata": {},
   "source": [
    "__**Traduction des Symptômes et Maladies en Français**__"
   ]
  },
  {
   "cell_type": "code",
   "execution_count": null,
   "id": "e353d184",
   "metadata": {},
   "outputs": [],
   "source": [
    "# Liste des étiquettes en anglais (maladies)\n",
    "english_labels = [\n",
    "    'AIDS', 'Acne', 'Alcoholic Hepatitis', 'Allergy', 'Arthritis',\n",
    "    'Bronchial Asthma', 'Cervical Spondylosis', 'Chickenpox', 'Chronic Cholestasis',\n",
    "    'Common Cold', 'Dengue', 'Diabetes', 'Dimorphic Hemmorhoids (piles)',\n",
    "    'Drug Reaction', 'Fungal Infection', 'GERD', 'Gastroenteritis', 'Heart Attack',\n",
    "    'Hepatitis A', 'Hepatitis B', 'Hepatitis C', 'Hepatitis D', 'Hepatitis E',\n",
    "    'Hypertension', 'Hyperthyroidism', 'Hypoglycemia', 'Hypothyroidism',\n",
    "    'Impetigo', 'Jaundice', 'Malaria', 'Migraine', 'Osteoarthritis',\n",
    "    'Paralysis (brain hemorrhage)', 'Peptic Ulcer Disease', 'Pneumonia', 'Psoriasis',\n",
    "    'Tuberculosis', 'Typhoid', 'Urinary Tract Infection', 'Varicose Veins', 'Vertigo'\n",
    "]\n",
    "\n",
    "# Traduction correspondante en français\n",
    "french_labels = [\n",
    "    \"SIDA\", \"Acné\", \"Hépatite alcoolique\", \"Allergie\", \"Arthrite\",\n",
    "    \"Asthme bronchique\", \"Spondylose cervicale\", \"Varicelle\", \"Cholestase chronique\",\n",
    "    \"Rhume\", \"Dengue\", \"Diabète\", \"Hémorroïdes dimorphes\",\n",
    "    \"Réaction médicamenteuse\", \"Infection fongique\", \"RGO (Reflux gastro-œsophagien)\",\n",
    "    \"Gastro-entérite\", \"Crise cardiaque\", \"Hépatite A\", \"Hépatite B\", \"Hépatite C\",\n",
    "    \"Hépatite D\", \"Hépatite E\", \"Hypertension\", \"Hyperthyroïdie\", \"Hypoglycémie\",\n",
    "    \"Hypothyroïdie\", \"Impétigo\", \"Jaunisse\", \"Paludisme\", \"Migraine\", \"Arthrose\",\n",
    "    \"Paralysie (hémorragie cérébrale)\", \"Ulcère gastroduodénal\", \"Pneumonie\", \"Psoriasis\",\n",
    "    \"Tuberculose\", \"Typhoïde\", \"Infection urinaire\", \"Varices\", \"Vertige\"\n",
    "]\n",
    "\n",
    "# Création d’un dictionnaire de correspondance anglais → français\n",
    "label_map = dict(zip(english_labels, french_labels))\n",
    "\n",
    "# Remplacement des étiquettes dans la colonne \"Diseases\" par les étiquettes en français\n",
    "preprocessed_df[\"Diseases\"] = preprocessed_df[\"Diseases\"].replace(label_map)\n"
   ]
  },
  {
   "cell_type": "code",
   "execution_count": null,
   "id": "e1301e2e",
   "metadata": {},
   "outputs": [],
   "source": [
    "print(preprocessed_df.columns.tolist())"
   ]
  },
  {
   "cell_type": "code",
   "execution_count": null,
   "id": "d49e3f85",
   "metadata": {},
   "outputs": [],
   "source": [
    "# Exemple simple de traduction\n",
    "translation_map = {\n",
    "    'itching': 'démangeaisons',\n",
    "    'skin rash': 'éruption cutanée',\n",
    "    'nodal skin eruptions': 'éruptions cutanées nodulaires',\n",
    "    'continuous sneezing': 'éternuements continus',\n",
    "    'shivering': 'tremblements',\n",
    "    'chills': 'frissons',\n",
    "    'joint pain': 'douleurs articulaires',\n",
    "    'stomach pain': 'douleurs d\\'estomac',\n",
    "    'acidity': 'acidité',\n",
    "    'ulcers on tongue': 'ulcères sur la langue',\n",
    "    'muscle wasting': 'atrophie musculaire',\n",
    "    'vomiting': 'vomissements',\n",
    "    'burning micturition': 'miction douloureuse',\n",
    "    'spotting urination': 'miction avec saignements',\n",
    "    'fatigue': 'fatigue',\n",
    "    'weight gain': 'prise de poids',\n",
    "    'anxiety': 'anxiété',\n",
    "    'cold hands and feets': 'mains et pieds froids',\n",
    "    'mood swings': 'sautes d\\'humeur',\n",
    "    'weight loss': 'perte de poids',\n",
    "    'restlessness': 'agitation',\n",
    "    'lethargy': 'léthargie',\n",
    "    'patches in throat': 'plaques dans la gorge',\n",
    "    'irregular sugar level': 'niveau de sucre irrégulier',\n",
    "    'cough': 'toux',\n",
    "    'high fever': 'forte fièvre',\n",
    "    'sunken eyes': 'yeux enfoncés',\n",
    "    'breathlessness': 'essoufflement',\n",
    "    'sweating': 'transpiration',\n",
    "    'dehydration': 'déshydratation',\n",
    "    'indigestion': 'indigestion',\n",
    "    'headache': 'maux de tête',\n",
    "    'yellowish skin': 'peau jaunâtre',\n",
    "    'dark urine': 'urine foncée',\n",
    "    'nausea': 'nausée',\n",
    "    'loss of appetite': 'perte d\\'appétit',\n",
    "    'pain behind the eyes': 'douleur derrière les yeux',\n",
    "    'back pain': 'douleur dorsale',\n",
    "    'constipation': 'constipation',\n",
    "    'abdominal pain': 'douleurs abdominales',\n",
    "    'diarrhoea': 'diarrhée',\n",
    "    'mild fever': 'fièvre légère',\n",
    "    'yellow urine': 'urine jaune',\n",
    "    'yellowing of eyes': 'jaunissement des yeux',\n",
    "    'acute liver failure': 'insuffisance hépatique aiguë',\n",
    "    'swelling of stomach': 'gonflement de l\\'estomac',\n",
    "    'swelled lymph nodes': 'ganglions lymphatiques enflés',\n",
    "    'malaise': 'malaise',\n",
    "    'blurred and distorted vision': 'vision floue et déformée',\n",
    "    'phlegm': 'flegme',\n",
    "    'throat irritation': 'irritation de la gorge',\n",
    "    'redness of eyes': 'rougeur des yeux',\n",
    "    'sinus pressure': 'pression sinusale',\n",
    "    'runny nose': 'nez qui coule',\n",
    "    'congestion': 'congestion',\n",
    "    'chest pain': 'douleur thoracique',\n",
    "    'weakness in limbs': 'faiblesse dans les membres',\n",
    "    'fast heart rate': 'rythme cardiaque rapide',\n",
    "    'pain during bowel movements': 'douleur pendant les selles',\n",
    "    'pain in anal region': 'douleur dans la région anale',\n",
    "    'bloody stool': 'selles sanglantes',\n",
    "    'irritation in anus': 'irritation de l\\'anus',\n",
    "    'neck pain': 'douleur au cou',\n",
    "    'dizziness': 'vertiges',\n",
    "    'cramps': 'crampes',\n",
    "    'bruising': 'ecchymoses',\n",
    "    'obesity': 'obésité',\n",
    "    'swollen legs': 'jambes enflées',\n",
    "    'swollen blood vessels': 'vaisseaux sanguins gonflés',\n",
    "    'puffy face and eyes': 'visage et yeux gonflés',\n",
    "    'enlarged thyroid': 'thyroïde élargie',\n",
    "    'brittle nails': 'ongles cassants',\n",
    "    'swollen extremeties': 'extrémités enflées',\n",
    "    'excessive hunger': 'faim excessive',\n",
    "    'extra marital contacts': 'contacts extra-conjugaux',\n",
    "    'drying and tingling lips': 'lèvres sèches et picotantes',\n",
    "    'slurred speech': 'discours confus',\n",
    "    'knee pain': 'douleur au genou',\n",
    "    'hip joint pain': 'douleur à l\\'articulation de la hanche',\n",
    "    'muscle weakness': 'faiblesse musculaire',\n",
    "    'stiff neck': 'raideur de la nuque',\n",
    "    'swelling joints': 'articulations enflées',\n",
    "    'movement stiffness': 'raideur de mouvement',\n",
    "    'spinning movements': 'mouvements de rotation',\n",
    "    'loss of balance': 'perte d\\'équilibre',\n",
    "    'unsteadiness': 'instabilité',\n",
    "    'weakness of one body side': 'faiblesse d\\'un côté du corps',\n",
    "    'loss of smell': 'perte d\\'odorat',\n",
    "    'bladder discomfort': 'inconfort de la vessie',\n",
    "    'foul smell of urine': 'odeur nauséabonde de l\\'urine',\n",
    "    'continuous feel of urine': 'sensation continue d\\'urine',\n",
    "    'passage of gases': 'passage de gaz',\n",
    "    'internal itching': 'démangeaisons internes',\n",
    "    'toxic look (typhos)': 'apparence toxique (typhos)',\n",
    "    'depression': 'dépression',\n",
    "    'irritability': 'irritabilité',\n",
    "    'muscle pain': 'douleurs musculaires',\n",
    "    'altered sensorium': 'sensorium altéré',\n",
    "    'red spots over body': 'tâches rouges sur le corps',\n",
    "    'belly pain': 'douleur au ventre',\n",
    "    'abnormal menstruation': 'menstruation anormale',\n",
    "    'dischromic patches': 'patches dyschromiques',\n",
    "    'watering from eyes': 'larmoiement',\n",
    "    'increased appetite': 'augmentation de l\\'appétit',\n",
    "    'polyuria': 'polyurie',\n",
    "    'family history': 'antécédents familiaux',\n",
    "    'mucoid sputum': 'crachat mucoïde',\n",
    "    'rusty sputum': 'crachat rouillé',\n",
    "    'lack of concentration': 'manque de concentration',\n",
    "    'visual disturbances': 'troubles visuels',\n",
    "    'receiving blood transfusion': 'recevoir une transfusion sanguine',\n",
    "    'receiving unsterile injections': 'recevoir des injections non stériles',\n",
    "    'coma': 'coma',\n",
    "    'stomach bleeding': 'saignement d\\'estomac',\n",
    "    'distention of abdomen': 'distension de l\\'abdomen',\n",
    "    'history of alcohol consumption': 'antécédents de consommation d\\'alcool',\n",
    "    'fluid overload': 'surcharge liquidienne',\n",
    "    'blood in sputum': 'sang dans les crachats',\n",
    "    'prominent veins on calf': 'veines proéminentes sur le mollet',\n",
    "    'palpitations': 'palpitations',\n",
    "    'painful walking': 'marche douloureuse',\n",
    "    'pus filled pimples': 'boutons remplis de pus',\n",
    "    'blackheads': 'points noirs',\n",
    "    'scurring': 'desquamation',\n",
    "    'skin peeling': 'peau qui pèle',\n",
    "    'silver like dusting': 'poussière argentée',\n",
    "    'small dents in nails': 'petites bosses dans les ongles',\n",
    "    'inflammatory nails': 'ongles inflammatoires',\n",
    "    'blister': 'ampoule',\n",
    "    'red sore around nose': 'plaie rouge autour du nez',\n",
    "    'yellow crust ooze': 'suintement de croûte jaune'\n",
    "}\n",
    "\n",
    "\n",
    "# Appliquer la traduction aux noms de colonnes (sauf \"Diseases\")\n",
    "preprocessed_df.columns = [\n",
    "    translation_map.get(col, col) if col != \"Diseases\" else col\n",
    "    for col in preprocessed_df.columns\n",
    "]\n"
   ]
  },
  {
   "cell_type": "code",
   "execution_count": null,
   "id": "e218cc02",
   "metadata": {},
   "outputs": [],
   "source": [
    "preprocessed_df"
   ]
  },
  {
   "cell_type": "code",
   "execution_count": null,
   "id": "821ef0cc",
   "metadata": {},
   "outputs": [],
   "source": [
    "from sklearn.model_selection import train_test_split\n",
    "from sklearn.preprocessing import OneHotEncoder\n",
    "\n",
    "# Séparer les variables explicatives et la variable cible brute\n",
    "X = preprocessed_df.drop(columns=[\"Diseases\"])\n",
    "y_raw = preprocessed_df[\"Diseases\"]\n",
    "\n",
    "# Encoder la variable cible au format one-hot\n",
    "onehot_encoder = OneHotEncoder(sparse_output=False, handle_unknown='ignore')\n",
    "y_encoded = onehot_encoder.fit_transform(y_raw.values.reshape(-1, 1))\n",
    "\n",
    "# Diviser les données en ensemble d'entraînement et de test (stratifié sur la classe cible)\n",
    "X_train, X_test, y_train, y_test = train_test_split(\n",
    "    X, y_encoded, test_size=0.2, random_state=42, stratify=y_raw\n",
    ")\n"
   ]
  },
  {
   "cell_type": "code",
   "execution_count": null,
   "id": "70aa5d96",
   "metadata": {},
   "outputs": [],
   "source": [
    "# Afficher les dimensions des ensembles d'entraînement et de test\n",
    "print(f\"X_train shape : {X_train.shape}\")\n",
    "print(f\"X_test shape  : {X_test.shape}\")\n",
    "print(f\"y_train shape : {y_train.shape}\")\n",
    "print(f\"y_test shape  : {y_test.shape}\")\n"
   ]
  },
  {
   "cell_type": "code",
   "execution_count": null,
   "id": "8343f545",
   "metadata": {},
   "outputs": [],
   "source": [
    "X_train = X_train.to_numpy()"
   ]
  },
  {
   "cell_type": "code",
   "execution_count": null,
   "id": "8c98b78a",
   "metadata": {},
   "outputs": [],
   "source": [
    "\n",
    "X_test = X_test.to_numpy()"
   ]
  },
  {
   "cell_type": "code",
   "execution_count": null,
   "id": "88269f97",
   "metadata": {},
   "outputs": [],
   "source": [
    "X_test = X_test.T\n",
    "X_train = X_train.T\n",
    "y_test = y_test.T\n",
    "y_train = y_train.T\n"
   ]
  },
  {
   "cell_type": "code",
   "execution_count": null,
   "id": "ea6bd7c9",
   "metadata": {},
   "outputs": [],
   "source": [
    "# Afficher les dimensions des ensembles d'entraînement et de test\n",
    "print(f\"X_train shape : {X_train.shape}\")\n",
    "print(f\"X_test shape  : {X_test.shape}\")\n",
    "print(f\"y_train shape : {y_train.shape}\")\n",
    "print(f\"y_test shape  : {y_test.shape}\")"
   ]
  },
  {
   "cell_type": "markdown",
   "id": "ba23cb97",
   "metadata": {},
   "source": [
    "## le modele"
   ]
  },
  {
   "cell_type": "code",
   "execution_count": null,
   "id": "3073461a",
   "metadata": {},
   "outputs": [],
   "source": [
    "from sklearn.metrics import accuracy_score, log_loss\n",
    "from tqdm import tqdm"
   ]
  },
  {
   "cell_type": "code",
   "execution_count": null,
   "id": "6c53c46d",
   "metadata": {},
   "outputs": [],
   "source": [
    "def softmax(x):\n",
    "    expX = np.exp(x - np.max(x, axis=0, keepdims=True))  # for numerical stability\n",
    "    return expX / expX.sum(axis=0, keepdims=True)"
   ]
  },
  {
   "cell_type": "code",
   "execution_count": null,
   "id": "25b902ec",
   "metadata": {},
   "outputs": [],
   "source": [
    "def initialisation(dimensions):\n",
    "    parametres = {}\n",
    "    C = len(dimensions)\n",
    "\n",
    "    np.random.seed(1)\n",
    "\n",
    "    for c in range(1, C):\n",
    "        parametres['W' + str(c)] = np.random.randn(dimensions[c], dimensions[c - 1]) * np.sqrt(2. / dimensions[c - 1])  # He init\n",
    "        parametres['b' + str(c)] = np.zeros((dimensions[c], 1))  # Initialize biases to 0\n",
    "\n",
    "    return parametres"
   ]
  },
  {
   "cell_type": "code",
   "execution_count": null,
   "id": "24b39c6c",
   "metadata": {},
   "outputs": [],
   "source": [
    "def forward_propagation(X, parametres):\n",
    "    activations = {'A0': X}\n",
    "    C = len(parametres) // 2\n",
    "\n",
    "    for c in range(1, C + 1):\n",
    "        Z = parametres['W' + str(c)].dot(activations['A' + str(c - 1)]) + parametres['b' + str(c)]\n",
    "        \n",
    "        if c == C:\n",
    "            A = softmax(Z)  # Apply softmax on last layer\n",
    "        else:\n",
    "            A = 1 / (1 + np.exp(-Z))  # sigmoid for hidden layers\n",
    "\n",
    "        activations['A' + str(c)] = A\n",
    "\n",
    "    return activations"
   ]
  },
  {
   "cell_type": "code",
   "execution_count": null,
   "id": "ad7ed760",
   "metadata": {},
   "outputs": [],
   "source": [
    "def back_propagation(y, parametres, activations):\n",
    "\n",
    "  m = y.shape[1]\n",
    "  C = len(parametres) // 2\n",
    "\n",
    "  dZ = activations['A' + str(C)] - y\n",
    "  gradients = {}\n",
    "\n",
    "  for c in reversed(range(1, C + 1)):\n",
    "    gradients['dW' + str(c)] = 1/m * np.dot(dZ, activations['A' + str(c - 1)].T)\n",
    "    gradients['db' + str(c)] = 1/m * np.sum(dZ, axis=1, keepdims=True)\n",
    "    if c > 1:\n",
    "      dZ = np.dot(parametres['W' + str(c)].T, dZ) * activations['A' + str(c - 1)] * (1 - activations['A' + str(c - 1)])\n",
    "\n",
    "  return gradients"
   ]
  },
  {
   "cell_type": "code",
   "execution_count": null,
   "id": "dfd3422b",
   "metadata": {},
   "outputs": [],
   "source": [
    "def update(gradients, parametres, learning_rate):\n",
    "\n",
    "    C = len(parametres) // 2\n",
    "\n",
    "    for c in range(1, C + 1):\n",
    "        parametres['W' + str(c)] = parametres['W' + str(c)] - learning_rate * gradients['dW' + str(c)]\n",
    "        parametres['b' + str(c)] = parametres['b' + str(c)] - learning_rate * gradients['db' + str(c)]\n",
    "\n",
    "    return parametres"
   ]
  },
  {
   "cell_type": "code",
   "execution_count": null,
   "id": "72004f62",
   "metadata": {},
   "outputs": [],
   "source": [
    "def deep_neural_network(X, y, hidden_layers=(16, 16, 16), learning_rate=0.001, n_iter=3000):\n",
    "    import numpy as np\n",
    "    import matplotlib.pyplot as plt\n",
    "    from sklearn.metrics import log_loss, accuracy_score\n",
    "    from tqdm import tqdm  # Barre de progression\n",
    "\n",
    "    # Définir les dimensions du réseau : entrée -> couches cachées -> sortie\n",
    "    dimensions = list(hidden_layers)\n",
    "    dimensions.insert(0, X.shape[0])  # Taille de la couche d'entrée\n",
    "    dimensions.append(y.shape[0])     # Taille de la couche de sortie\n",
    "\n",
    "    np.random.seed(1)  # Pour la reproductibilité\n",
    "    parametres = initialisation(dimensions)  # Initialisation des poids et biais\n",
    "\n",
    "    training_history = np.zeros((n_iter, 2))  # Pour stocker perte et précision à chaque itération\n",
    "    C = len(parametres) // 2  # Nombre de couches (hors entrée)\n",
    "\n",
    "    # Boucle d'entraînement\n",
    "    for i in tqdm(range(n_iter)):\n",
    "        # Propagation avant\n",
    "        activations = forward_propagation(X, parametres)\n",
    "\n",
    "        # Rétropropagation pour calculer les gradients\n",
    "        gradients = back_propagation(y, parametres, activations)\n",
    "\n",
    "        # Mise à jour des paramètres avec descente de gradient\n",
    "        parametres = update(gradients, parametres, learning_rate)\n",
    "\n",
    "        # Sortie finale du réseau\n",
    "        Af = activations['A' + str(C)]\n",
    "\n",
    "        # Évaluation du modèle\n",
    "        y_true = np.argmax(y, axis=0)      # Classes vraies\n",
    "        y_prob = Af.T                      # Probabilités prédites\n",
    "        y_pred = np.argmax(Af, axis=0)     # Classes prédites\n",
    "\n",
    "        # Stockage de la perte et précision\n",
    "        training_history[i, 0] = log_loss(y_true, y_prob)\n",
    "        training_history[i, 1] = accuracy_score(y_true, y_pred)\n",
    "\n",
    "    # Affichage des courbes d'apprentissage\n",
    "    plt.figure(figsize=(12, 4))\n",
    "\n",
    "    # Courbe de la perte\n",
    "    plt.subplot(1, 2, 1)\n",
    "    plt.plot(training_history[:, 0], label='Train Loss')\n",
    "    plt.title(f\"Courbe de Perte avec learning rate: {learning_rate}\")\n",
    "    plt.xlabel(\"Itérations\")\n",
    "    plt.ylabel(\"Perte\")\n",
    "    plt.legend()\n",
    "\n",
    "    # Courbe de précision\n",
    "    plt.subplot(1, 2, 2)\n",
    "    plt.plot(training_history[:, 1], label='Train Accuracy')\n",
    "    plt.title(\"Courbe de Précision\")\n",
    "    plt.xlabel(\"Itérations\")\n",
    "    plt.ylabel(\"Précision\")\n",
    "    plt.legend()\n",
    "\n",
    "    plt.show()\n",
    "\n",
    "    # Affichage des métriques finales\n",
    "    print(f\"train acc : {training_history[-1][1]} loss : {training_history[-1][0]}\")\n",
    "\n",
    "    # Retour des objets utiles pour analyse ou prédiction\n",
    "    return training_history, activations, parametres, gradients\n",
    "\n"
   ]
  },
  {
   "cell_type": "code",
   "execution_count": null,
   "id": "2edcb4ac",
   "metadata": {},
   "outputs": [],
   "source": [
    "def predict_labels(X, parametres):\n",
    "    activations = forward_propagation(X, parametres)\n",
    "    C = len(parametres) // 2\n",
    "    Af = activations['A' + str(C)]\n",
    "    return np.argmax(Af, axis=0)  # shape: (n_samples,)"
   ]
  },
  {
   "cell_type": "code",
   "execution_count": null,
   "id": "769a7fc2",
   "metadata": {},
   "outputs": [],
   "source": [
    "def test_accuracy_and_loss(X_test, y_test, parametres):\n",
    "    y_pred = predict_labels(X_test, parametres)\n",
    "    y_true = np.argmax(y_test, axis=0)\n",
    "    y_prob = forward_propagation(X_test, parametres)['A' + str(len(parametres) // 2)].T\n",
    "    acc = accuracy_score(y_true, y_pred)\n",
    "    loss = log_loss(y_true, y_prob)\n",
    "    print(f\"Test Accuracy: {acc:.4f}\")\n",
    "    print(f\"Test Log Loss: {loss:.4f}\")\n",
    "    return acc, loss"
   ]
  },
  {
   "cell_type": "markdown",
   "id": "d740a07d",
   "metadata": {},
   "source": [
    "## Training"
   ]
  },
  {
   "cell_type": "code",
   "execution_count": null,
   "id": "c24312f7",
   "metadata": {},
   "outputs": [],
   "source": [
    "LR = [1, 0.1 , 0.01 , 0.001]\n",
    "\n",
    "loss = []\n",
    "\n",
    "for lr in LR:\n",
    "    print(\"------------------------------------------\")\n",
    "    print(\"training the learning rate : \",lr)\n",
    "    history_train , activations, parametres, gradients = deep_neural_network(X_train, y_train, hidden_layers=(256,256), learning_rate=lr, n_iter=1000)\n",
    "    loss.append(history_train[-1][1])\n",
    "    print(\"------------------------------------------\")"
   ]
  },
  {
   "cell_type": "markdown",
   "id": "aa558ba0",
   "metadata": {},
   "source": [
    "## Conclusion : Effet du Taux d’Apprentissage\n",
    "\n",
    "Nous avons évalué l’impact de différents taux d’apprentissage (`learning_rate`) sur la performance du réseau de neurones. Les résultats sont résumés comme suit :\n",
    "\n",
    "| Taux d’apprentissage | Précision finale | Perte finale |\n",
    "|----------------------|------------------|--------------|\n",
    "| **1.0**              | 1.0000           | **0.0015**   |\n",
    "| **0.1**              | 1.0000           | 0.0283       |\n",
    "| **0.01**             | 0.9753           | 1.0900       |\n",
    "| **0.001**            | 0.3416           | 3.3664       |\n",
    "\n",
    "**Analyse :**\n",
    "- Le taux `1.0` permet au modèle de converger rapidement avec une précision parfaite et une perte extrêmement faible.\n",
    "- Le taux `0.1` donne également de bons résultats, mais reste légèrement moins performant que `1.0`.\n",
    "- Le taux `0.01` atteint une précision correcte mais souffre d’une perte élevée, ce qui suggère une convergence incomplète.\n",
    "- Le taux `0.001` est trop faible dans ce contexte et ne permet pas au modèle d’apprendre efficacement.\n",
    "\n",
    "**Conclusion :** Le taux d’apprentissage de **1.0** est le plus performant dans ce cas précis, offrant la **meilleure précision et la perte la plus faible**. Il reste cependant important de noter que ce taux peut entraîner des instabilités sur d'autres jeux de données. Dans un cadre plus général, `0.1` demeure une alternative stable, tandis que des taux plus faibles comme `0.001` nécessitent un nombre d’itérations plus élevé pour produire des résultats acceptables.\n"
   ]
  },
  {
   "cell_type": "code",
   "execution_count": null,
   "id": "7ce8097f",
   "metadata": {},
   "outputs": [],
   "source": [
    "history_train , activations, parametres, gradients = deep_neural_network(X_train, y_train, hidden_layers=(256,256), learning_rate=1, n_iter=1000)\n"
   ]
  },
  {
   "cell_type": "code",
   "execution_count": null,
   "id": "b9537f59",
   "metadata": {},
   "outputs": [],
   "source": [
    "history_test , activations_test, parametres_test , gradients_test = deep_neural_network(X_test, y_test, hidden_layers=(256,256), learning_rate=1, n_iter=1000)"
   ]
  },
  {
   "cell_type": "code",
   "execution_count": null,
   "id": "30ed3f62",
   "metadata": {},
   "outputs": [],
   "source": [
    "acc = test_accuracy_and_loss(X_test , y_test , parametres)"
   ]
  },
  {
   "cell_type": "code",
   "execution_count": null,
   "id": "86281637",
   "metadata": {},
   "outputs": [],
   "source": [
    "# Plot training and test loss/accuracy curves\n",
    "\n",
    "plt.figure(figsize=(12, 4))\n",
    "\n",
    "# Loss\n",
    "plt.subplot(1, 2, 1)\n",
    "plt.plot(history_train[:, 0], label='Train Loss')\n",
    "plt.plot(history_test[:, 0], label='Test Loss')\n",
    "plt.xlabel('Epoch')\n",
    "plt.ylabel('Loss')\n",
    "plt.legend()\n",
    "\n",
    "# Accuracy\n",
    "plt.subplot(1, 2, 2)\n",
    "plt.plot(history_train[:, 1], label='Train Accuracy')\n",
    "plt.plot(history_test[:, 1], label='Test Accuracy')\n",
    "plt.xlabel('Epoch')\n",
    "plt.ylabel('Accuracy')\n",
    "plt.legend()\n",
    "\n",
    "plt.tight_layout()\n",
    "plt.show()"
   ]
  },
  {
   "cell_type": "markdown",
   "id": "40de87bf",
   "metadata": {},
   "source": [
    "## Sauvegarde du Modèle"
   ]
  },
  {
   "cell_type": "code",
   "execution_count": null,
   "id": "12acdfc1",
   "metadata": {},
   "outputs": [],
   "source": [
    "import pickle\n",
    "\n",
    "# Sauvegarder les paramètres du modèle dans un fichier\n",
    "with open('ressource/mlp_parametres.pkl', 'wb') as f:\n",
    "    pickle.dump(parametres, f)\n",
    "with open(\"ressource/encoder.pkl\", \"wb\") as f:\n",
    "    pickle.dump(onehot_encoder, f)"
   ]
  },
  {
   "cell_type": "code",
   "execution_count": null,
   "id": "fa1a102e",
   "metadata": {},
   "outputs": [],
   "source": [
    "import json\n",
    "\n",
    "# Extraire les noms de classes directement\n",
    "disease_labels = list(onehot_encoder.categories_[0])\n",
    "\n",
    "# Sauvegarder dans un fichier JSON\n",
    "with open(\"ressource/disease_labels.json\", \"w\", encoding=\"utf-8\") as f:\n",
    "    json.dump(disease_labels, f, ensure_ascii=False, indent=2)\n",
    "\n"
   ]
  },
  {
   "cell_type": "code",
   "execution_count": null,
   "id": "0e3d1c65",
   "metadata": {},
   "outputs": [],
   "source": [
    "symptom_names = preprocessed_df.drop(columns=[\"Diseases\"]).columns.tolist()\n",
    "with open(\"ressource/symptoms.json\", \"w\", encoding=\"utf-8\") as f:\n",
    "    json.dump(symptom_names, f, ensure_ascii=False, indent=2)\n"
   ]
  }
 ],
 "metadata": {
  "kernelspec": {
   "display_name": "Python 3",
   "language": "python",
   "name": "python3"
  },
  "language_info": {
   "codemirror_mode": {
    "name": "ipython",
    "version": 3
   },
   "file_extension": ".py",
   "mimetype": "text/x-python",
   "name": "python",
   "nbconvert_exporter": "python",
   "pygments_lexer": "ipython3",
   "version": "3.11.7"
  }
 },
 "nbformat": 4,
 "nbformat_minor": 5
}
